{
 "cells": [
  {
   "cell_type": "markdown",
   "metadata": {},
   "source": [
    "# Liczby"
   ]
  },
  {
   "cell_type": "markdown",
   "metadata": {},
   "source": [
    "W Rubim występują trzy podstawowe typu służące do reprezentacji liczb\n",
    "* `Fixnum`\n",
    "* `Bignum`\n",
    "* `Float`\n",
    "\n",
    "Pierwsze dwa typy służą do reprezentacji liczba całkowitych, a trzeci do reprezentacji liczb zmiennopozycyjnych. Różnica pomiędzy dwoma pierwszymi typami polega na tym, że w typie `Bignum` są reprezentowane liczby, które nie mogą być przechowywane natywnie na wykorzystywanej architekturze sprzętowej. O ile zatem nie reprezentujesz bardzo dużych liczb, nie musisz za bardzo przejmować się tym rozróżnieniem.\n",
    "\n",
    "Ważniejsze są różnice między typami `Fixnum` oraz `Float`.\n",
    "\n",
    "Aby stworzyć liczbę typu `Fixnum` po prostu wpisujemy jej wartość w reprezentacji dziesiętnej, np.\n",
    "\n",
    "```ruby\n",
    "5\n",
    "```"
   ]
  },
  {
   "cell_type": "code",
   "execution_count": 1,
   "metadata": {
    "collapsed": false
   },
   "outputs": [],
   "source": [
    "5"
   ]
  },
  {
   "cell_type": "markdown",
   "metadata": {},
   "source": [
    "Typ dowolnej zmiennej można poznać za pomocą wywołania `class`\n",
    "\n",
    "```ruby\n",
    "5.class\n",
    "```"
   ]
  },
  {
   "cell_type": "code",
   "execution_count": 1,
   "metadata": {
    "collapsed": false
   },
   "outputs": [
    {
     "data": {
      "text/plain": [
       "Fixnum"
      ]
     },
     "execution_count": 1,
     "metadata": {},
     "output_type": "execute_result"
    }
   ],
   "source": [
    "5.class"
   ]
  },
  {
   "cell_type": "markdown",
   "metadata": {},
   "source": [
    "Aby stworzyć liczbę typu `Float`, wartość liczby musi zawierać kropkę, np.\n",
    "\n",
    "```ruby\n",
    "5.0\n",
    "5.0.class\n",
    "```"
   ]
  },
  {
   "cell_type": "code",
   "execution_count": 2,
   "metadata": {
    "collapsed": false
   },
   "outputs": [
    {
     "data": {
      "text/plain": [
       "Float"
      ]
     },
     "execution_count": 2,
     "metadata": {},
     "output_type": "execute_result"
    }
   ],
   "source": [
    "5.0.class"
   ]
  },
  {
   "cell_type": "markdown",
   "metadata": {},
   "source": [
    "Możliwe jest dodawanie liczb różnych typów - następuje wtedy automatyczna kowersja\n",
    "```ruby\n",
    "a = 5\n",
    "b = 10.0\n",
    "c = a + b\n",
    "c.class\n",
    "```"
   ]
  },
  {
   "cell_type": "code",
   "execution_count": 3,
   "metadata": {
    "collapsed": false
   },
   "outputs": [
    {
     "data": {
      "text/plain": [
       "Float"
      ]
     },
     "execution_count": 3,
     "metadata": {},
     "output_type": "execute_result"
    }
   ],
   "source": [
    "a = 5\n",
    "b = 10.0\n",
    "c = a + b\n",
    "c.class"
   ]
  },
  {
   "cell_type": "markdown",
   "metadata": {},
   "source": [
    "Na obu typach liczb można wykonywać następujące operacje arytmetyczne:\n",
    "\n",
    "|  Operator   | Działanie        |\n",
    "|-------------|------------------|\n",
    "| `+`         | dodawanie        |\n",
    "| `-`         | odejmowanie      |\n",
    "| `*`         | mnożenie         |\n",
    "| `/`         | dzielenie        |\n",
    "| `%`         | dzielenie modulo |\n",
    "| `**`        | potęgowanie      |\n",
    "\n",
    "Przykładowo\n",
    "\n",
    "```ruby\n",
    "(10**2 + 2 * 3) % 6\n",
    "```\n"
   ]
  },
  {
   "cell_type": "code",
   "execution_count": 4,
   "metadata": {
    "collapsed": false
   },
   "outputs": [
    {
     "data": {
      "text/plain": [
       "4"
      ]
     },
     "execution_count": 4,
     "metadata": {},
     "output_type": "execute_result"
    }
   ],
   "source": [
    "(10**2 + 2 * 3) % 6"
   ]
  },
  {
   "cell_type": "markdown",
   "metadata": {},
   "source": [
    "Możliwe jest również wykonywanie bardziej złożonych operacji. Znajdują się one w module `Math`. \n",
    "Jeśli chcemy np. wyciągnąć pierwiastek kwadratowy z liczby to piszemy\n",
    "```ruby\n",
    "Math.sqrt(2)\n",
    "```"
   ]
  },
  {
   "cell_type": "code",
   "execution_count": 5,
   "metadata": {
    "collapsed": false
   },
   "outputs": [
    {
     "data": {
      "text/plain": [
       "1.4142135623730951"
      ]
     },
     "execution_count": 5,
     "metadata": {},
     "output_type": "execute_result"
    }
   ],
   "source": [
    "Math.sqrt(2)"
   ]
  },
  {
   "cell_type": "markdown",
   "metadata": {},
   "source": [
    "A logarytm naturalny to `Math.log`\n",
    "```ruby\n",
    "Math.log(2)\n",
    "```"
   ]
  },
  {
   "cell_type": "code",
   "execution_count": 6,
   "metadata": {
    "collapsed": false
   },
   "outputs": [
    {
     "data": {
      "text/plain": [
       "0.6931471805599453"
      ]
     },
     "execution_count": 6,
     "metadata": {},
     "output_type": "execute_result"
    }
   ],
   "source": [
    "Math.log(2)"
   ]
  },
  {
   "cell_type": "markdown",
   "metadata": {},
   "source": [
    "Ważne zastrzeżenie dotyczy operatora dzielenia - działa o inaczej dla liczb całkowitych, a inaczej dla zmiennopozycyjnych.\n",
    "W przypadku tych pierwszych wynik jest liczbą całkowitą, więc mamy do czynienia z dzieleniem modulo:\n",
    "```ruby\n",
    "10 / 3\n",
    "```"
   ]
  },
  {
   "cell_type": "code",
   "execution_count": 7,
   "metadata": {
    "collapsed": false
   },
   "outputs": [
    {
     "data": {
      "text/plain": [
       "3"
      ]
     },
     "execution_count": 7,
     "metadata": {},
     "output_type": "execute_result"
    }
   ],
   "source": [
    "10 / 3"
   ]
  },
  {
   "cell_type": "markdown",
   "metadata": {},
   "source": [
    "W przypadku tych drugich mamy do czynienia z dzieleniem zwykływ - wystarczy aby tylko jeden argument był liczbą zmiennopozycyjną, aby całe wyrażenie było traktowane jak dzielenie zwykłe\n",
    "```ruby\n",
    "10.0 / 3\n",
    "```"
   ]
  },
  {
   "cell_type": "code",
   "execution_count": 8,
   "metadata": {
    "collapsed": false
   },
   "outputs": [
    {
     "data": {
      "text/plain": [
       "3.3333333333333335"
      ]
     },
     "execution_count": 8,
     "metadata": {},
     "output_type": "execute_result"
    }
   ],
   "source": [
    "10.0 / 3"
   ]
  },
  {
   "cell_type": "markdown",
   "metadata": {},
   "source": [
    "Możliwe jest również dokonywanie kowersji pomiędzy tymi typami:\n",
    "```ruby\n",
    "5.5.to_i\n",
    "```"
   ]
  },
  {
   "cell_type": "code",
   "execution_count": 9,
   "metadata": {
    "collapsed": false
   },
   "outputs": [
    {
     "data": {
      "text/plain": [
       "5"
      ]
     },
     "execution_count": 9,
     "metadata": {},
     "output_type": "execute_result"
    }
   ],
   "source": [
    "5.5.to_i"
   ]
  },
  {
   "cell_type": "markdown",
   "metadata": {},
   "source": [
    "```ruby\n",
    "5.to_f\n",
    "```"
   ]
  },
  {
   "cell_type": "code",
   "execution_count": 10,
   "metadata": {
    "collapsed": false
   },
   "outputs": [
    {
     "data": {
      "text/plain": [
       "5.0"
      ]
     },
     "execution_count": 10,
     "metadata": {},
     "output_type": "execute_result"
    }
   ],
   "source": [
    "5.to_f"
   ]
  },
  {
   "cell_type": "markdown",
   "metadata": {},
   "source": [
    "Warto zwrócić uwagę, że zamiana na liczbę całkowitą powoduje obcięcie wartości ułamkowej, bez zaokrąglenia:\n",
    "```ruby\n",
    "5.6.to_i\n",
    "```"
   ]
  },
  {
   "cell_type": "code",
   "execution_count": 11,
   "metadata": {
    "collapsed": false
   },
   "outputs": [
    {
     "data": {
      "text/plain": [
       "5"
      ]
     },
     "execution_count": 11,
     "metadata": {},
     "output_type": "execute_result"
    }
   ],
   "source": [
    "5.6.to_i"
   ]
  },
  {
   "cell_type": "markdown",
   "metadata": {},
   "source": [
    "Jeśli chcemy zaokrąglić wartość, musimy najpierw użyć wywołania `round`\n",
    "```ruby\n",
    "5.6.round.to_i\n",
    "```"
   ]
  },
  {
   "cell_type": "code",
   "execution_count": 12,
   "metadata": {
    "collapsed": false
   },
   "outputs": [
    {
     "data": {
      "text/plain": [
       "6"
      ]
     },
     "execution_count": 12,
     "metadata": {},
     "output_type": "execute_result"
    }
   ],
   "source": [
    "5.6.round.to_i"
   ]
  },
  {
   "cell_type": "markdown",
   "metadata": {},
   "source": [
    "Choć wydawać się może, że operacja na liczbach nie są wywołaniami metod, to w rzeczywistości nie jest to prawda. Każde wyrażenie artymetyczne może być zamienione na swoją postać obiektową:\n",
    "```ruby\n",
    "5 + 2 * 3\n",
    "```\n",
    "to to samo co\n",
    "```ruby\n",
    "5.+(2.*(3))\n",
    "```"
   ]
  },
  {
   "cell_type": "code",
   "execution_count": 13,
   "metadata": {
    "collapsed": false
   },
   "outputs": [
    {
     "data": {
      "text/plain": [
       "11"
      ]
     },
     "execution_count": 13,
     "metadata": {},
     "output_type": "execute_result"
    }
   ],
   "source": [
    "5.+(2.*(3))"
   ]
  },
  {
   "cell_type": "markdown",
   "metadata": {},
   "source": [
    "Ważne jest jednak to, że operatory artymetyczne mają swoje naturalne priorytety, dlatego nie musimy obawiać się, że wszystkie wyrażenia będą ewaluowane od lewej do prawej, jak to ma miejsce w przypadku zwykłego wywoływania metod."
   ]
  },
  {
   "cell_type": "markdown",
   "metadata": {},
   "source": [
    "Poza najprostszymi operacjami arytmetycznymi, na liczbach można wywoływać wiele metod. Wcześniej widzieliśmy już metody `round`, `to_i` oraz `to_f`. Inne ciekawe metody to `zero?`\n",
    "```ruby\n",
    "0.zero?\n",
    "1.zero?\n",
    "```"
   ]
  },
  {
   "cell_type": "code",
   "execution_count": 14,
   "metadata": {
    "collapsed": false
   },
   "outputs": [
    {
     "data": {
      "text/plain": [
       "false"
      ]
     },
     "execution_count": 14,
     "metadata": {},
     "output_type": "execute_result"
    }
   ],
   "source": [
    "1.zero?"
   ]
  },
  {
   "cell_type": "markdown",
   "metadata": {},
   "source": [
    "`between?`\n",
    "```ruby\n",
    "15.between(10,20)\n",
    "```"
   ]
  },
  {
   "cell_type": "code",
   "execution_count": 15,
   "metadata": {
    "collapsed": false
   },
   "outputs": [
    {
     "ename": "NoMethodError",
     "evalue": "undefined method `between' for 15:Fixnum",
     "output_type": "error",
     "traceback": [
      "\u001b[31mNoMethodError\u001b[0m: undefined method `between' for 15:Fixnum",
      "\u001b[37m<main>:in `<main>'\u001b[0m",
      "\u001b[37m/home/ola/.rvm/gems/ruby-2.2.3/gems/iruby-0.2.7/lib/iruby/backend.rb:44:in `eval'\u001b[0m",
      "\u001b[37m/home/ola/.rvm/gems/ruby-2.2.3/gems/iruby-0.2.7/lib/iruby/backend.rb:44:in `eval'\u001b[0m",
      "\u001b[37m/home/ola/.rvm/gems/ruby-2.2.3/gems/iruby-0.2.7/lib/iruby/backend.rb:12:in `eval'\u001b[0m",
      "\u001b[37m/home/ola/.rvm/gems/ruby-2.2.3/gems/iruby-0.2.7/lib/iruby/kernel.rb:87:in `execute_request'\u001b[0m",
      "\u001b[37m/home/ola/.rvm/gems/ruby-2.2.3/gems/iruby-0.2.7/lib/iruby/kernel.rb:47:in `dispatch'\u001b[0m",
      "\u001b[37m/home/ola/.rvm/gems/ruby-2.2.3/gems/iruby-0.2.7/lib/iruby/kernel.rb:37:in `run'\u001b[0m",
      "\u001b[37m/home/ola/.rvm/gems/ruby-2.2.3/gems/iruby-0.2.7/lib/iruby/command.rb:70:in `run_kernel'\u001b[0m",
      "\u001b[37m/home/ola/.rvm/gems/ruby-2.2.3/gems/iruby-0.2.7/lib/iruby/command.rb:34:in `run'\u001b[0m",
      "\u001b[37m/home/ola/.rvm/gems/ruby-2.2.3/gems/iruby-0.2.7/bin/iruby:5:in `<top (required)>'\u001b[0m",
      "\u001b[37m/home/ola/.rvm/gems/ruby-2.2.3/bin/iruby:23:in `load'\u001b[0m",
      "\u001b[37m/home/ola/.rvm/gems/ruby-2.2.3/bin/iruby:23:in `<main>'\u001b[0m",
      "\u001b[37m/home/ola/.rvm/gems/ruby-2.2.3/bin/ruby_executable_hooks:15:in `eval'\u001b[0m",
      "\u001b[37m/home/ola/.rvm/gems/ruby-2.2.3/bin/ruby_executable_hooks:15:in `<main>'\u001b[0m"
     ]
    }
   ],
   "source": [
    "15.between(10,20)"
   ]
  },
  {
   "cell_type": "markdown",
   "metadata": {},
   "source": [
    "`abs`\n",
    "```ruby\n",
    "-1.abs\n",
    "```"
   ]
  },
  {
   "cell_type": "code",
   "execution_count": 16,
   "metadata": {
    "collapsed": false
   },
   "outputs": [
    {
     "data": {
      "text/plain": [
       "1"
      ]
     },
     "execution_count": 16,
     "metadata": {},
     "output_type": "execute_result"
    }
   ],
   "source": [
    "-1.abs"
   ]
  },
  {
   "cell_type": "markdown",
   "metadata": {},
   "source": [
    "`succ`\n",
    "```ruby\n",
    "7.succ\n",
    "```"
   ]
  },
  {
   "cell_type": "code",
   "execution_count": 17,
   "metadata": {
    "collapsed": false
   },
   "outputs": [
    {
     "data": {
      "text/plain": [
       "8"
      ]
     },
     "execution_count": 17,
     "metadata": {},
     "output_type": "execute_result"
    }
   ],
   "source": [
    "7.succ"
   ]
  },
  {
   "cell_type": "markdown",
   "metadata": {},
   "source": [
    "Oraz `times`\n",
    "```ruby\n",
    "3.times{ print \"Jestem kometą. \" }\n",
    "```"
   ]
  },
  {
   "cell_type": "code",
   "execution_count": 18,
   "metadata": {
    "collapsed": false
   },
   "outputs": [
    {
     "name": "stdout",
     "output_type": "stream",
     "text": [
      "Jestem kometą. Jestem kometą. Jestem kometą. "
     ]
    },
    {
     "data": {
      "text/plain": [
       "3"
      ]
     },
     "execution_count": 18,
     "metadata": {},
     "output_type": "execute_result"
    }
   ],
   "source": [
    "3.times{ print \"Jestem kometą. \" }"
   ]
  },
  {
   "cell_type": "markdown",
   "metadata": {},
   "source": [
    "Istnieją biblioteki, które dodają bardziej zaawansowane metody do obiektów liczbowych. Np. biblioteka używana `ActiveSupport` w Railsach pozwala na wykonywanie działań arytmetycznych na datach\n",
    "```ruby\n",
    "require 'active_support/time'\n",
    "3.days.ago\n",
    "```"
   ]
  },
  {
   "cell_type": "code",
   "execution_count": 19,
   "metadata": {
    "collapsed": false
   },
   "outputs": [
    {
     "data": {
      "text/plain": [
       "2015-10-24 02:05:07 +0200"
      ]
     },
     "execution_count": 19,
     "metadata": {},
     "output_type": "execute_result"
    }
   ],
   "source": [
    "require 'active_support/time'\n",
    "3.days.ago"
   ]
  },
  {
   "cell_type": "markdown",
   "metadata": {},
   "source": [
    "### Zadanie 1"
   ]
  },
  {
   "cell_type": "markdown",
   "metadata": {},
   "source": [
    "Oblicz pierwsiatek trzeciego stopnia z 10. Wynik przedstaw w zaokrągleniu do dwóch miejsc po przecinku."
   ]
  },
  {
   "cell_type": "code",
   "execution_count": 20,
   "metadata": {
    "collapsed": false
   },
   "outputs": [
    {
     "data": {
      "text/plain": [
       "2.15"
      ]
     },
     "execution_count": 20,
     "metadata": {},
     "output_type": "execute_result"
    }
   ],
   "source": [
    "Math.cbrt(10).round(2)"
   ]
  },
  {
   "cell_type": "markdown",
   "metadata": {},
   "source": [
    "# Symbole"
   ]
  },
  {
   "cell_type": "markdown",
   "metadata": {},
   "source": [
    "Symbole w Rubim reprezentują *nazwy*. Symbole tworzone są poprzez umieszczenie dwukropka na początku nazwy:\n",
    "```ruby\n",
    ":name\n",
    "```"
   ]
  },
  {
   "cell_type": "code",
   "execution_count": 21,
   "metadata": {
    "collapsed": false
   },
   "outputs": [
    {
     "data": {
      "text/plain": [
       ":name"
      ]
     },
     "execution_count": 21,
     "metadata": {},
     "output_type": "execute_result"
    }
   ],
   "source": [
    ":name"
   ]
  },
  {
   "cell_type": "markdown",
   "metadata": {},
   "source": [
    "Symboli nie należy mylić z napisami. Te drugie wykorzystywane są do reprezentowania danych tekstowych, np. pochodzących od użytkownika. Napisy mogą być konkatenowane, można sprawdzać ich długość, etc. Tych operacji nie można wykonywać na symbolach.\n",
    "Ponadto napisy są modyfikowalne a symbole nie.\n",
    "\n",
    "\n",
    "Symbole są nazwami wykorzystywanymi *wewnątrz* programu. Z tego względu, w przeciwieństwie do napisów, dwa symbole, które wyglądają identycznie są zawsze tym samym symbolem (mają ten sam identyfikator).\n",
    "```ruby\n",
    ":name.equal?(:name)\n",
    "\"name\".equal?(\"name\")\n",
    "```\n"
   ]
  },
  {
   "cell_type": "code",
   "execution_count": 24,
   "metadata": {
    "collapsed": false
   },
   "outputs": [
    {
     "name": "stdout",
     "output_type": "stream",
     "text": [
      "true\n",
      "false\n"
     ]
    }
   ],
   "source": [
    "puts :name.equal?(:name)\n",
    "puts \"name\".equal?(\"name\")"
   ]
  },
  {
   "cell_type": "markdown",
   "metadata": {},
   "source": [
    "# Zakresy"
   ]
  },
  {
   "cell_type": "markdown",
   "metadata": {},
   "source": [
    "Zakresy to inny ciekawy element języka Ruby. Stosowane są one do reprezentowania przedziałów wartości. Wyróżnia się dwa typy zakresów - obustronnie domknięte, w których występują dwie kropki:\n",
    "```ruby\n",
    "(1..5)\n",
    "```\n",
    "oraz lewostronnie domknięte, w których występują 3 kropki:\n",
    "```ruby\n",
    "(1...5)\n",
    "```\n",
    "\n",
    "Różnica pomiędzy nimi polega na tym, że pierwszy zakres obejmuje wszystkie wymienione wartości, a drugi zakres nie obejmuje wartości stojącej po prawej stronie. Najłatwiej można się o tym przekonać, sprawdzając, czy jakaś wartość należy do zakresu za pomocą metody `include?`:\n",
    "```ruby\n",
    "(1..5).include?(5)\n",
    "```"
   ]
  },
  {
   "cell_type": "code",
   "execution_count": 25,
   "metadata": {
    "collapsed": false
   },
   "outputs": [
    {
     "data": {
      "text/plain": [
       "true"
      ]
     },
     "execution_count": 25,
     "metadata": {},
     "output_type": "execute_result"
    }
   ],
   "source": [
    "(1..5).include?(5)"
   ]
  },
  {
   "cell_type": "markdown",
   "metadata": {},
   "source": [
    "```ruby\n",
    "(1...5).include?(5)\n",
    "```"
   ]
  },
  {
   "cell_type": "code",
   "execution_count": 26,
   "metadata": {
    "collapsed": false
   },
   "outputs": [
    {
     "data": {
      "text/plain": [
       "false"
      ]
     },
     "execution_count": 26,
     "metadata": {},
     "output_type": "execute_result"
    }
   ],
   "source": [
    "(1...5).include?(5)"
   ]
  },
  {
   "cell_type": "markdown",
   "metadata": {},
   "source": [
    "Istnieją dwie podstawowe metody pozwalające na sprawdzenie kresów zakresu: `min` oraz `max`:\n",
    "```ruby\n",
    "(1..5).min\n",
    "```"
   ]
  },
  {
   "cell_type": "code",
   "execution_count": 27,
   "metadata": {
    "collapsed": false
   },
   "outputs": [
    {
     "data": {
      "text/plain": [
       "1"
      ]
     },
     "execution_count": 27,
     "metadata": {},
     "output_type": "execute_result"
    }
   ],
   "source": [
    "(1..5).min"
   ]
  },
  {
   "cell_type": "markdown",
   "metadata": {},
   "source": [
    "```ruby\n",
    "(1..5).max\n",
    "```"
   ]
  },
  {
   "cell_type": "code",
   "execution_count": 28,
   "metadata": {
    "collapsed": false
   },
   "outputs": [
    {
     "data": {
      "text/plain": [
       "5"
      ]
     },
     "execution_count": 28,
     "metadata": {},
     "output_type": "execute_result"
    }
   ],
   "source": [
    "(1..5).max"
   ]
  },
  {
   "cell_type": "markdown",
   "metadata": {},
   "source": [
    "```ruby\n",
    "(1...5).max\n",
    "```"
   ]
  },
  {
   "cell_type": "code",
   "execution_count": 29,
   "metadata": {
    "collapsed": false
   },
   "outputs": [
    {
     "data": {
      "text/plain": [
       "4"
      ]
     },
     "execution_count": 29,
     "metadata": {},
     "output_type": "execute_result"
    }
   ],
   "source": [
    "(1...5).max"
   ]
  },
  {
   "cell_type": "markdown",
   "metadata": {},
   "source": [
    "Zakresy są często wykorzystywane w różnych wywołaniach, w szczególności tych związanych ze strukturami sekwencyjnymi, np. napisami. Wywołując na napisie metodę `[]` w istocie korzystaliśmy z zakresów:\n",
    "```ruby\n",
    "\"Ala ma kota\"[0..3]\n",
    "```"
   ]
  },
  {
   "cell_type": "code",
   "execution_count": 30,
   "metadata": {
    "collapsed": false
   },
   "outputs": [
    {
     "data": {
      "text/plain": [
       "\"Ala \""
      ]
     },
     "execution_count": 30,
     "metadata": {},
     "output_type": "execute_result"
    }
   ],
   "source": [
    "\"Ala ma kota\"[0..3]"
   ]
  },
  {
   "cell_type": "markdown",
   "metadata": {},
   "source": [
    "Ważną cechą zakresów jest to, że zajmują one znacznie mniej pamięci niż np. tablice zawierające wszystkie elementy należące do zakresu. Możliwe jest jednak jawne przekształcenie zakresów w tablice, za pomocą wywołania `to_a`:\n",
    "```ruby\n",
    "(1..5).to_a\n",
    "```"
   ]
  },
  {
   "cell_type": "code",
   "execution_count": 31,
   "metadata": {
    "collapsed": false
   },
   "outputs": [
    {
     "data": {
      "text/plain": [
       "[1, 2, 3, 4, 5]"
      ]
     },
     "execution_count": 31,
     "metadata": {},
     "output_type": "execute_result"
    }
   ],
   "source": [
    "(1..5).to_a"
   ]
  },
  {
   "cell_type": "markdown",
   "metadata": {},
   "source": [
    "Ostatnią ważną cechą zakresów jest to, jak definiują one operator `===`. Operator ten zwróci wartość prawdy, jeśli wartośc po prawej stronie należy do zakresu. \n",
    "```ruby\n",
    "(1..5) === 3\n",
    "```"
   ]
  },
  {
   "cell_type": "code",
   "execution_count": 32,
   "metadata": {
    "collapsed": false
   },
   "outputs": [
    {
     "data": {
      "text/plain": [
       "true"
      ]
     },
     "execution_count": 32,
     "metadata": {},
     "output_type": "execute_result"
    }
   ],
   "source": [
    "(1..5) === 3"
   ]
  },
  {
   "cell_type": "markdown",
   "metadata": {},
   "source": [
    "```ruby\n",
    "(1..5) === 7\n",
    "```"
   ]
  },
  {
   "cell_type": "code",
   "execution_count": 33,
   "metadata": {
    "collapsed": false
   },
   "outputs": [
    {
     "data": {
      "text/plain": [
       "false"
      ]
     },
     "execution_count": 33,
     "metadata": {},
     "output_type": "execute_result"
    }
   ],
   "source": [
    "(1..5) === 7"
   ]
  },
  {
   "cell_type": "markdown",
   "metadata": {},
   "source": [
    "Dlatego właśnie możliwe jest wykorzystanie zakresów w instrukcji `case`:\n",
    "```ruby\n",
    "year = 1990\n",
    "case year\n",
    "when 1901..2000\n",
    "  \"XX wiek\"\n",
    "when 2001..2100\n",
    "  \"XXI wiek\"\n",
    "else\n",
    "  \"ciemne wieki\"\n",
    "end\n",
    "```"
   ]
  },
  {
   "cell_type": "code",
   "execution_count": 34,
   "metadata": {
    "collapsed": false
   },
   "outputs": [
    {
     "data": {
      "text/plain": [
       "\"XX wiek\""
      ]
     },
     "execution_count": 34,
     "metadata": {},
     "output_type": "execute_result"
    }
   ],
   "source": [
    "year = 1990\n",
    "case year\n",
    "when 1901..2000\n",
    "  \"XX wiek\"\n",
    "when 2001..2100\n",
    "  \"XXI wiek\"\n",
    "else\n",
    "  \"ciemne wieki\"\n",
    "end"
   ]
  },
  {
   "cell_type": "markdown",
   "metadata": {},
   "source": [
    "### Zadanie 2"
   ]
  },
  {
   "cell_type": "markdown",
   "metadata": {},
   "source": [
    "Korzystając z poprzedniego przykładu zdefiniuj algorytm, który będzie zamieniał wartości liczbowe w notacji arabskiej  na notację rzymską w przedziale od 1 do 10."
   ]
  },
  {
   "cell_type": "code",
   "execution_count": 38,
   "metadata": {
    "collapsed": false
   },
   "outputs": [
    {
     "name": "stdout",
     "output_type": "stream",
     "text": [
      "VIII\n"
     ]
    }
   ],
   "source": [
    "liczba = 8\n",
    "case liczba\n",
    "when 1..3\n",
    "puts \"I\"*liczba\n",
    "when 4\n",
    "puts \"IV\"\n",
    "when 5..8\n",
    "puts \"V\"+\"I\"*(liczba-5)\n",
    "when 9..10\n",
    "puts \"I\"*(10-liczba)+\"X\"\n",
    "end\n",
    "  "
   ]
  },
  {
   "cell_type": "code",
   "execution_count": null,
   "metadata": {
    "collapsed": true
   },
   "outputs": [],
   "source": []
  }
 ],
 "metadata": {
  "kernelspec": {
   "display_name": "Ruby 2.2.3",
   "language": "ruby",
   "name": "ruby"
  },
  "language_info": {
   "file_extension": "rb",
   "mimetype": "application/x-ruby",
   "name": "ruby",
   "version": "2.2.3"
  }
 },
 "nbformat": 4,
 "nbformat_minor": 0
}
